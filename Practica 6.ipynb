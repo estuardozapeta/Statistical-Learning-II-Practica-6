{
 "cells": [
  {
   "cell_type": "markdown",
   "metadata": {},
   "source": [
    "## **Práctica 6**"
   ]
  },
  {
   "cell_type": "code",
   "execution_count": null,
   "metadata": {},
   "outputs": [],
   "source": [
    "import numpy as np\n",
    "import matplotlib.pyplot as plt"
   ]
  },
  {
   "cell_type": "markdown",
   "metadata": {},
   "source": [
    "##### **Datos de entrada**"
   ]
  },
  {
   "cell_type": "code",
   "execution_count": 69,
   "metadata": {},
   "outputs": [],
   "source": [
    "x = np.array([\n",
    "    [1, 0],\n",
    "    [0, 1],\n",
    "    [0, 0],\n",
    "    [1, 1]])\n",
    "\n",
    "y = np.array([\n",
    "    [1],\n",
    "    [1],\n",
    "    [0],\n",
    "    [0]])"
   ]
  },
  {
   "cell_type": "markdown",
   "metadata": {},
   "source": [
    "##### **Pesos aleatorios con una distribución normal centrada en 0 y std = 0.1**"
   ]
  },
  {
   "cell_type": "code",
   "execution_count": 108,
   "metadata": {},
   "outputs": [],
   "source": [
    "w1 = np.random.normal(0.0, 0.1, (2,2))\n",
    "w2 = np.random.normal(0.0, 0.1, (2,2))\n",
    "w3 = np.random.normal(0.0, 0.1, (2,1))"
   ]
  },
  {
   "cell_type": "markdown",
   "metadata": {},
   "source": [
    "##### **Definición de la función de activación ReLu**"
   ]
  },
  {
   "cell_type": "code",
   "execution_count": 3,
   "metadata": {},
   "outputs": [],
   "source": [
    "def relu(x):\n",
    "    return np.maximum(x, 0)"
   ]
  },
  {
   "cell_type": "markdown",
   "metadata": {},
   "source": [
    "##### **Derivada de la función de activación**"
   ]
  },
  {
   "cell_type": "code",
   "execution_count": 4,
   "metadata": {},
   "outputs": [],
   "source": [
    "def reluDerivative(x):\n",
    "    x[x<=0] = 0\n",
    "    x[x>0] = 1\n",
    "    return x"
   ]
  },
  {
   "cell_type": "markdown",
   "metadata": {},
   "source": [
    "##### **Forward Propagation**\n",
    "\n",
    "* La capa de salida de no posee activación"
   ]
  },
  {
   "cell_type": "code",
   "execution_count": 112,
   "metadata": {},
   "outputs": [],
   "source": [
    "def forward_propagation(x, w1, w2, w3, predict=False):\n",
    "    \n",
    "    input_H1 = np.matmul(x,w1)\n",
    "    output_H1 = relu(input_H1)\n",
    "    \n",
    "    input_H2 = np.matmul(output_H1, w2)\n",
    "    output_H2 = relu(input_H2)\n",
    "    \n",
    "    output = np.matmul(output_H2, w3)\n",
    "    \n",
    "    if predict:\n",
    "        return output\n",
    "    \n",
    "    return output_H1, output_H2, output"
   ]
  },
  {
   "cell_type": "markdown",
   "metadata": {},
   "source": [
    "##### **Back Propagation**"
   ]
  },
  {
   "cell_type": "code",
   "execution_count": 8,
   "metadata": {},
   "outputs": [],
   "source": [
    "def back_propagation(output_H1, output_H2, output, y):\n",
    "    \n",
    "    error = y - output\n",
    "    \n",
    "    delta = error * reluDerivative(output)\n",
    "    error_H2 = np.matmul(delta,w3.T)\n",
    "    delta_H2 = error_H2 * reluDerivative(output_H2)\n",
    "    \n",
    "    error_H1 = np.matmul(delta_H2,w2.T)\n",
    "    delta_H1 = error_H1 * reluDerivative(output_H1)\n",
    "    \n",
    "    return error, delta, delta_H2, delta_H1"
   ]
  },
  {
   "cell_type": "markdown",
   "metadata": {},
   "source": [
    "##### **Función de entreno**"
   ]
  },
  {
   "cell_type": "code",
   "execution_count": 9,
   "metadata": {},
   "outputs": [],
   "source": [
    "def fit (lr, epochs):\n",
    "    costs = []\n",
    "    global H2\n",
    "    global w1\n",
    "    global w2\n",
    "    global w3\n",
    "    output_H2 = []\n",
    "    \n",
    "    for i in range(epochs):\n",
    "        output_H1, output_H2, output = forward_propagation(x, w1, w2, w3)\n",
    "        error, delta, delta_H2, delta_H1 = back_propagation(output_H1, output_H2, output, y)\n",
    "    \n",
    "        w3 += (np.matmul(output.T,delta)*lr)\n",
    "        w2 += (np.matmul(output_H2.T,delta_H2)*lr)\n",
    "        w1 += (np.matmul(output_H1.T,delta_H1)*lr)\n",
    "\n",
    "        c = np.mean(error)\n",
    "        costs.append(c)\n",
    "    \n",
    "        if i % 10000 == 0:\n",
    "            print(f\"Iteración: {i}. Error: {c}\")\n",
    "\n",
    "    print(\"Entreno completo!\")\n",
    "    \n",
    "    return output_H2"
   ]
  },
  {
   "cell_type": "markdown",
   "metadata": {},
   "source": [
    "##### **Función de predicción**"
   ]
  },
  {
   "cell_type": "code",
   "execution_count": 10,
   "metadata": {},
   "outputs": [],
   "source": [
    "def predict():\n",
    "    prediction = forward_propagation(x, w1, w2, w3, True)\n",
    "    print(\"Predicción\")\n",
    "    print(np.round(prediction))"
   ]
  },
  {
   "cell_type": "markdown",
   "metadata": {},
   "source": [
    "##### **Función de gráfico**"
   ]
  },
  {
   "cell_type": "code",
   "execution_count": 11,
   "metadata": {},
   "outputs": [],
   "source": [
    "def plot(hidden_layer):\n",
    "    plt.xlabel(\"X1\")\n",
    "    plt.ylabel(\"X2\") \n",
    "    plt.scatter(hidden_layer[:,0], hidden_layer[:,1], alpha=0.6, c=['green','orange','brown','dodgerblue'])\n",
    "    plt.show()"
   ]
  },
  {
   "cell_type": "markdown",
   "metadata": {},
   "source": [
    "##### **Experimento 1:** learning_rate = 0.001 y epochs = 30000 "
   ]
  },
  {
   "cell_type": "code",
   "execution_count": 33,
   "metadata": {},
   "outputs": [
    {
     "name": "stdout",
     "output_type": "stream",
     "text": [
      "Iteración: 0. Error: 0.4999148206106549\n",
      "Iteración: 10000. Error: 0.01782354619509205\n",
      "Iteración: 20000. Error: 0.013777990510046134\n",
      "Entreno completo!\n"
     ]
    }
   ],
   "source": [
    "H2 = fit(0.001,30000)"
   ]
  },
  {
   "cell_type": "code",
   "execution_count": 34,
   "metadata": {},
   "outputs": [
    {
     "name": "stdout",
     "output_type": "stream",
     "text": [
      "Predicción\n",
      "[[1.]\n",
      " [0.]\n",
      " [0.]\n",
      " [1.]]\n"
     ]
    }
   ],
   "source": [
    "predict()"
   ]
  },
  {
   "cell_type": "code",
   "execution_count": 35,
   "metadata": {},
   "outputs": [
    {
     "data": {
      "image/png": "[encoded data removed]",
      "text/plain": [
       "<Figure size 432x288 with 1 Axes>"
      ]
     },
     "metadata": {
      "needs_background": "light"
     },
     "output_type": "display_data"
    }
   ],
   "source": [
    "plot(H2)"
   ]
  },
  {
   "cell_type": "markdown",
   "metadata": {},
   "source": [
    "##### **Experimento 2:** learning_rate = 0.005 y epochs = 15000 "
   ]
  },
  {
   "cell_type": "code",
   "execution_count": 101,
   "metadata": {},
   "outputs": [
    {
     "name": "stdout",
     "output_type": "stream",
     "text": [
      "Iteración: 0. Error: 0.5000875677975626\n",
      "Iteración: 10000. Error: 0.005692631064316306\n",
      "Entreno completo!\n"
     ]
    }
   ],
   "source": [
    "H2 = fit(0.005,15000)"
   ]
  },
  {
   "cell_type": "code",
   "execution_count": 102,
   "metadata": {},
   "outputs": [
    {
     "name": "stdout",
     "output_type": "stream",
     "text": [
      "Predicción\n",
      "[[1.]\n",
      " [0.]\n",
      " [0.]\n",
      " [1.]]\n"
     ]
    }
   ],
   "source": [
    "predict()"
   ]
  },
  {
   "cell_type": "code",
   "execution_count": 103,
   "metadata": {},
   "outputs": [
    {
     "data": {
      "image/png": "[encoded data removed]",
      "text/plain": [
       "<Figure size 432x288 with 1 Axes>"
      ]
     },
     "metadata": {
      "needs_background": "light"
     },
     "output_type": "display_data"
    }
   ],
   "source": [
    "plot(H2)"
   ]
  },
  {
   "cell_type": "markdown",
   "metadata": {},
   "source": [
    "##### **Experimento 3:** learning_rate = 0.0077 y epochs = 25000 "
   ]
  },
  {
   "cell_type": "code",
   "execution_count": 109,
   "metadata": {},
   "outputs": [
    {
     "name": "stdout",
     "output_type": "stream",
     "text": [
      "Iteración: 0. Error: 0.4999976787582342\n",
      "Iteración: 10000. Error: 8.881784197001252e-16\n",
      "Iteración: 20000. Error: 8.881784197001252e-16\n",
      "Entreno completo!\n"
     ]
    }
   ],
   "source": [
    "H2 = fit(0.0077,25000)"
   ]
  },
  {
   "cell_type": "code",
   "execution_count": 110,
   "metadata": {},
   "outputs": [
    {
     "name": "stdout",
     "output_type": "stream",
     "text": [
      "Predicción\n",
      "[[1.]\n",
      " [0.]\n",
      " [0.]\n",
      " [1.]]\n"
     ]
    }
   ],
   "source": [
    "predict()"
   ]
  },
  {
   "cell_type": "code",
   "execution_count": 111,
   "metadata": {},
   "outputs": [
    {
     "data": {
      "image/png": "[encoded data removed]",
      "text/plain": [
       "<Figure size 432x288 with 1 Axes>"
      ]
     },
     "metadata": {
      "needs_background": "light"
     },
     "output_type": "display_data"
    }
   ],
   "source": [
    "plot(H2)"
   ]
  },
  {
   "cell_type": "markdown",
   "metadata": {},
   "source": [
    "##### **Experimento 4:** learning_rate = 0.00088 y epochs = 25000"
   ]
  },
  {
   "cell_type": "code",
   "execution_count": 81,
   "metadata": {},
   "outputs": [
    {
     "name": "stdout",
     "output_type": "stream",
     "text": [
      "Iteración: 0. Error: 0.49919051357929334\n",
      "Iteración: 10000. Error: 9.547918011776346e-15\n",
      "Iteración: 20000. Error: 9.547918011776346e-15\n",
      "Entreno completo!\n"
     ]
    }
   ],
   "source": [
    "H2 = fit(0.00088,25000)"
   ]
  },
  {
   "cell_type": "code",
   "execution_count": 82,
   "metadata": {},
   "outputs": [
    {
     "name": "stdout",
     "output_type": "stream",
     "text": [
      "Predicción\n",
      "[[1.]\n",
      " [0.]\n",
      " [0.]\n",
      " [1.]]\n"
     ]
    }
   ],
   "source": [
    "predict()"
   ]
  },
  {
   "cell_type": "code",
   "execution_count": 83,
   "metadata": {},
   "outputs": [
    {
     "data": {
      "image/png": "[encoded data removed]",
      "text/plain": [
       "<Figure size 432x288 with 1 Axes>"
      ]
     },
     "metadata": {
      "needs_background": "light"
     },
     "output_type": "display_data"
    }
   ],
   "source": [
    "plot(H2)"
   ]
  },
  {
   "cell_type": "markdown",
   "metadata": {},
   "source": [
    "##### **Experimento 5:** learning_rate = 0.00097 y epochs = 15000 "
   ]
  },
  {
   "cell_type": "code",
   "execution_count": 92,
   "metadata": {},
   "outputs": [
    {
     "name": "stdout",
     "output_type": "stream",
     "text": [
      "Iteración: 0. Error: 0.49995345470944785\n",
      "Iteración: 10000. Error: 1.6375789613221059e-15\n",
      "Entreno completo!\n"
     ]
    }
   ],
   "source": [
    "H2 = fit(0.00097,15000)"
   ]
  },
  {
   "cell_type": "code",
   "execution_count": 93,
   "metadata": {},
   "outputs": [
    {
     "name": "stdout",
     "output_type": "stream",
     "text": [
      "Predicción\n",
      "[[1.]\n",
      " [0.]\n",
      " [0.]\n",
      " [1.]]\n"
     ]
    }
   ],
   "source": [
    "predict()"
   ]
  },
  {
   "cell_type": "code",
   "execution_count": 94,
   "metadata": {},
   "outputs": [
    {
     "data": {
      "image/png": "[encoded data removed]",
      "text/plain": [
       "<Figure size 432x288 with 1 Axes>"
      ]
     },
     "metadata": {
      "needs_background": "light"
     },
     "output_type": "display_data"
    }
   ],
   "source": [
    "plot(H2)"
   ]
  },
  {
   "cell_type": "markdown",
   "metadata": {},
   "source": [
    "##### **Conclusiones**\n",
    "\n",
    "En la observación de los experimentos se pudo determinar que para llegar a la convergencia el factor de aprendizaje debe aproximarse a 0.001 y la cantidad de epocas oscila entre 10000-15000 y aunque los pesos son aleatorios, se puede asegurar lo antes expuesto ya que los parametros para determinar los pesos iniciales poseen una distribución normal centrada en 0 y std = 0.1."
   ]
  }
 ],
 "metadata": {
  "kernelspec": {
   "display_name": "Python 3",
   "language": "python",
   "name": "python3"
  },
  "language_info": {
   "codemirror_mode": {
    "name": "ipython",
    "version": 3
   },
   "file_extension": ".py",
   "mimetype": "text/x-python",
   "name": "python",
   "nbconvert_exporter": "python",
   "pygments_lexer": "ipython3",
   "version": "3.7.4"
  }
 },
 "nbformat": 4,
 "nbformat_minor": 4
}
